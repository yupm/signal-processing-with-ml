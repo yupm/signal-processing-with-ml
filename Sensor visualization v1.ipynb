{
 "cells": [
  {
   "cell_type": "code",
   "execution_count": 1,
   "metadata": {},
   "outputs": [],
   "source": [
    "import scipy.io as sio\n",
    "import matplotlib.pyplot as plt"
   ]
  },
  {
   "cell_type": "code",
   "execution_count": 2,
   "metadata": {},
   "outputs": [],
   "source": [
    "s1_inertia = sio.loadmat('Kinect2Dataset/Data/a1_s1_t1_inertial.mat')"
   ]
  },
  {
   "cell_type": "code",
   "execution_count": 3,
   "metadata": {},
   "outputs": [
    {
     "data": {
      "text/plain": [
       "array([[-1.02002 , -0.142334,  0.228271,  7.725191, -0.21374 , -1.038168],\n",
       "       [-1.004639, -0.180908,  0.217285, 12.305344,  1.251908, -2.076336],\n",
       "       [-0.994873, -0.144775,  0.213867, 12.152672,  1.374046, -2.167939],\n",
       "       ...,\n",
       "       [-1.000732,  0.02124 ,  0.265869, -4.152672,  1.618321,  0.      ],\n",
       "       [-1.01416 , -0.046143,  0.271973,  9.374046,  0.458015, -2.473282],\n",
       "       [-1.008057, -0.077637,  0.266357, 15.358779, -0.152672, -3.053435]])"
      ]
     },
     "execution_count": 3,
     "metadata": {},
     "output_type": "execute_result"
    }
   ],
   "source": [
    "s1_inertia['d_iner']"
   ]
  },
  {
   "cell_type": "code",
   "execution_count": 4,
   "metadata": {},
   "outputs": [],
   "source": [
    "s1_inertia_T = s1_inertia['d_iner'].T"
   ]
  },
  {
   "cell_type": "code",
   "execution_count": 9,
   "metadata": {},
   "outputs": [
    {
     "data": {
      "text/plain": [
       "184"
      ]
     },
     "execution_count": 9,
     "metadata": {},
     "output_type": "execute_result"
    }
   ],
   "source": [
    "s1_inertia_T[5].size"
   ]
  },
  {
   "cell_type": "code",
   "execution_count": null,
   "metadata": {},
   "outputs": [],
   "source": [
    "def generate_plot(sensor_data, subject, activity):\n",
    "    ylabel = 'Amplitude'\n",
    "    axtitles = ['X-axis acceleration', 'Y-axis acceleration', 'Z-axis acceleration', \n",
    "                'X-axis angular vel','Y-axis angular vel','Z-axis angular vel']\n",
    "\n",
    "    f, axarr = plt.subplots(nrows=2, ncols=3, figsize=(12,6))\n",
    "    f.suptitle('Activity %s'%activity, fontsize=20)\n",
    "\n",
    "    for row_no in range(0,2):\n",
    "        for col_no in range(0,3):\n",
    "            comp_no = row_no * 3 + col_no      \n",
    "\n",
    "            gtitle = axtitles[comp_no]\n",
    "            xlabel = 'Time'\n",
    "\n",
    "            graph = axarr[row_no, col_no]\n",
    "            graph.set_title(gtitle, fontsize=16)\n",
    "            graph.set_xlabel(xlabel, fontsize=16)\n",
    "            if comp_no == 0:\n",
    "                graph.set_ylabel('Subject %s'%subject, fontsize=16)\n",
    "\n",
    "            graph.plot(sensor_data[comp_no])\n",
    "\n",
    "    plt.tight_layout()\n",
    "    plt.ylabel('Subject 1, Activity 1',fontsize=14)\n",
    "    plt.subplots_adjust(top=0.90, hspace=0.6)\n",
    "    plt.show()"
   ]
  },
  {
   "cell_type": "code",
   "execution_count": null,
   "metadata": {},
   "outputs": [],
   "source": [
    "generate_plot(s1_inertia_T, 2,2)"
   ]
  },
  {
   "cell_type": "code",
   "execution_count": null,
   "metadata": {},
   "outputs": [],
   "source": []
  }
 ],
 "metadata": {
  "kernelspec": {
   "display_name": "Python 3",
   "language": "python",
   "name": "python3"
  },
  "language_info": {
   "codemirror_mode": {
    "name": "ipython",
    "version": 3
   },
   "file_extension": ".py",
   "mimetype": "text/x-python",
   "name": "python",
   "nbconvert_exporter": "python",
   "pygments_lexer": "ipython3",
   "version": "3.6.5"
  }
 },
 "nbformat": 4,
 "nbformat_minor": 2
}
